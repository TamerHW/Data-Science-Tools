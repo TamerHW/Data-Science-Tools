{
  "nbformat": 4,
  "nbformat_minor": 0,
  "metadata": {
    "colab": {
      "provenance": []
    },
    "kernelspec": {
      "name": "python3",
      "display_name": "Python 3"
    },
    "language_info": {
      "name": "python"
    }
  },
  "cells": [
    {
      "cell_type": "markdown",
      "source": [
        "# Data Science Tools and Ecosystem"
      ],
      "metadata": {
        "id": "hgqGima2Fsr2"
      }
    },
    {
      "cell_type": "markdown",
      "source": [
        "In this notebook, Data Science Tools and Ecosystem are summarized, where we are going to have a high level overview about the different open source and commercial tools being used by data scientists."
      ],
      "metadata": {
        "id": "R7Cai5vsHu0_"
      }
    },
    {
      "cell_type": "markdown",
      "source": [
        "**Objectives:**\n",
        "\n",
        "\n",
        "*   List popular languages for Data Science\n",
        "*   List commonly used libraries used by Data Scientists\n",
        "*   List of most important Data Science Tools\n",
        "*   List some of arithmatic expressions\n",
        "\n"
      ],
      "metadata": {
        "id": "Oq0ZTNpyPspq"
      }
    },
    {
      "cell_type": "markdown",
      "source": [
        "Some of the popular languages that Data Scientists use are:\n",
        "1.   Python\n",
        "2.   R\n",
        "3.   SQL\n",
        "4.   Julia\n",
        "5.   Scala"
      ],
      "metadata": {
        "id": "z-TTeQRVIXZv"
      }
    },
    {
      "cell_type": "markdown",
      "source": [
        "Some of the commonly used libraries used by Data Scientists include:\n",
        "\n",
        "1. Pandas\n",
        "2. Matplotlib\n",
        "3. Sciklearn\n",
        "4. Tensorflow\n",
        "5. ggplot2"
      ],
      "metadata": {
        "id": "j8ibTvJwJW8D"
      }
    },
    {
      "cell_type": "markdown",
      "source": [
        "| Data Science Tools                        |\n",
        "| ----------------------------------------- |\n",
        "| Data Management Tools                     |\n",
        "| Data Integration and Transformation Tools |\n",
        "| Data Visualization Tools                  |"
      ],
      "metadata": {
        "id": "wSusOHIoKD_-"
      }
    },
    {
      "cell_type": "markdown",
      "source": [
        "### Below are a few examples of evaluating arithmetic expressions in Python:\n",
        "\n",
        "1. **, for exponentiation.\n",
        "2. //, for integer division\n",
        "3. %, for modulus\n",
        "\n"
      ],
      "metadata": {
        "id": "YzEiABgdNX6z"
      }
    },
    {
      "cell_type": "code",
      "source": [
        "# This a simple arithmetic expression to mutiply then add integers\n",
        "(3*4)+5"
      ],
      "metadata": {
        "colab": {
          "base_uri": "https://localhost:8080/"
        },
        "id": "gPlZ4ifcOo0w",
        "outputId": "a39e6575-5e14-4c4c-cec3-995dc38b3174"
      },
      "execution_count": 1,
      "outputs": [
        {
          "output_type": "execute_result",
          "data": {
            "text/plain": [
              "17"
            ]
          },
          "metadata": {},
          "execution_count": 1
        }
      ]
    },
    {
      "cell_type": "code",
      "source": [
        "# This will convert 200 minutes to hours by diving by 6\n",
        "200/60"
      ],
      "metadata": {
        "colab": {
          "base_uri": "https://localhost:8080/"
        },
        "id": "c-xoczjFPPD1",
        "outputId": "cb76303f-918b-43cb-8387-820706b3ec2d"
      },
      "execution_count": 3,
      "outputs": [
        {
          "output_type": "execute_result",
          "data": {
            "text/plain": [
              "3.3333333333333335"
            ]
          },
          "metadata": {},
          "execution_count": 3
        }
      ]
    },
    {
      "cell_type": "markdown",
      "source": [
        "## Author\n",
        "Tamer Hussien"
      ],
      "metadata": {
        "id": "f6ApSimORCV1"
      }
    },
    {
      "cell_type": "code",
      "source": [],
      "metadata": {
        "id": "9B9W7UqmRQUy"
      },
      "execution_count": null,
      "outputs": []
    }
  ]
}